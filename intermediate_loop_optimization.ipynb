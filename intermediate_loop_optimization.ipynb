{
 "cells": [
  {
   "cell_type": "code",
   "execution_count": 49,
   "id": "398976af-17cc-429d-becd-e3f1422f17ee",
   "metadata": {
    "execution": {
     "iopub.execute_input": "2023-08-10T17:50:32.258204Z",
     "iopub.status.busy": "2023-08-10T17:50:32.257905Z",
     "iopub.status.idle": "2023-08-10T17:50:32.268313Z",
     "shell.execute_reply": "2023-08-10T17:50:32.267732Z",
     "shell.execute_reply.started": "2023-08-10T17:50:32.258191Z"
    }
   },
   "outputs": [
    {
     "name": "stdout",
     "output_type": "stream",
     "text": [
      "The autoreload extension is already loaded. To reload it, use:\n",
      "  %reload_ext autoreload\n"
     ]
    }
   ],
   "source": [
    "%load_ext autoreload\n",
    "%autoreload 2\n",
    "\n",
    "import numpy as np\n",
    "import pandas as pd\n",
    "import read_inputs, compute_cycle_efficiency\n",
    "# import compute_required_area\n",
    "import test as compute_required_area\n",
    "from th_functions import *\n",
    "\n",
    "import scipy.optimize as spo"
   ]
  },
  {
   "cell_type": "code",
   "execution_count": 125,
   "id": "11598d1b-73f7-4062-8a7a-36f6fccd0926",
   "metadata": {
    "execution": {
     "iopub.execute_input": "2023-08-10T20:30:43.791682Z",
     "iopub.status.busy": "2023-08-10T20:30:43.791342Z",
     "iopub.status.idle": "2023-08-10T20:30:47.222224Z",
     "shell.execute_reply": "2023-08-10T20:30:47.221720Z",
     "shell.execute_reply.started": "2023-08-10T20:30:43.791664Z"
    }
   },
   "outputs": [
    {
     "name": "stdout",
     "output_type": "stream",
     "text": [
      "  message: CONVERGENCE: REL_REDUCTION_OF_F_<=_FACTR*EPSMCH\n",
      "  success: True\n",
      "   status: 0\n",
      "      fun: 397619.4634388773\n",
      "        x: [ 1.626e+01  1.107e+00  1.345e-03  1.042e+02  1.500e+02]\n",
      "      nit: 19\n",
      "      jac: [-2.602e+00 -2.790e+01 -2.209e+03  0.000e+00 -4.083e+02]\n",
      "     nfev: 216\n",
      "     njev: 36\n",
      " hess_inv: <5x5 LbfgsInvHessProduct with dtype=float64>\n",
      "Vol:   [0.70017   1.1592551]\n",
      "Cost:  397619.4634388773\n",
      "Thermal Power (MW)                              30\n",
      "Primary Fluid                               Sodium\n",
      "Primary Hot Temperature (C)                    550\n",
      "Primary Cold Temperature (C)                   400\n",
      "Primary Mass Flow Rate (kg/s)                  NaN\n",
      "Primary Pressure (kPa)                         300\n",
      "Secondary Fluid                      CarbonDioxide\n",
      "Secondary Hot Temperature (C)                  500\n",
      "Secondary Cold Temperature (C)                 300\n",
      "Secondary Mass Flow Rate (kg/s)                NaN\n",
      "Secondary Pressure (kPa)                     25000\n",
      "Intermediate Tloss                       16.256953\n",
      "Intermediate dTMultiplier                 1.107491\n",
      "Plate thickness (m)                          0.001\n",
      "Channel Diameter (m)                      0.001345\n",
      "Plate material                               SS316\n",
      "Primary Pressure Drop (kPa)                  104.2\n",
      "Secondary Pressure Drop (kPa)                150.0\n",
      "Step size (m)                                0.005\n",
      "HX length lower bound (m)                        1\n",
      "HX length upper bound (m)                       10\n",
      "Pump/Compressor Efficiency                    0.88\n",
      "Turbine Efficiency                            0.88\n",
      "Compression Ratio                            3.333\n",
      "Secondary Minimum Temperature (C)             32.0\n",
      "dtype: object\n",
      "Primary Velocity (m/s)                                                        2.274588\n",
      "Primary Re                                                                 6422.447705\n",
      "Primary Nu                                                                    5.385494\n",
      "Primary htc (W/m2)                                                        428955.86793\n",
      "Primary Channel Mass Flow Rate (kg/s)                                         0.001359\n",
      "Primary Mass Flow Rate (kg/s)                                               157.090403\n",
      "Primary Mass Flux (kg/m2/s)                                                1911.630279\n",
      "Primary Pressure Drop (Pa)                                                56160.592907\n",
      "Intermediate Velocity (m/s)                                                   2.032686\n",
      "Intermediate Re                                                            5561.963816\n",
      "Intermediate Nu                                                               5.349888\n",
      "Intermediate htc (W/m2)                                                  434312.424805\n",
      "Intermediate Channel Mass Flow Rate (kg/s)                                    0.001222\n",
      "Intermediate Mass Flow Rate (kg/s)                                           141.32449\n",
      "Intermediate Mass Flux (kg/m2/s)                                           1719.775168\n",
      "Intermediate Pressure Drop (Pa)                 [47156.26875566419, 78075.53255567844]\n",
      "Intermediate Pump Work [MW]                                                   0.023771\n",
      "Secondary Velocity                                                            7.543322\n",
      "Secondary Re                                                              35136.344178\n",
      "Secondary Nu                                                                 84.543544\n",
      "Secondary htc (W/m2)                                                       5609.469137\n",
      "Secondary Channel Mass Flow Rate (kg/s)                                       0.001039\n",
      "Secondary Mass Flow Rate (kg/s)                                             120.147912\n",
      "Secondary Mass Flux (kg/m2/s)                                              1462.077771\n",
      "Secondary Pressure Drop (Pa)                                                  150000.0\n",
      "Overall htc                                   [13870.580976879786, 4022.5574295450324]\n",
      "Number of Channels                             [115612.50900468875, 115612.5090547743]\n",
      "Heat Exchanger Length (m)                     [0.5942396398545583, 0.9838686896059047]\n",
      "dtype: object\n",
      "Compressor Power (MW)     7.354872\n",
      "Turbine Power (MW)       14.833305\n",
      "Cycle Efficiency          0.249281\n",
      "dtype: float64\n"
     ]
    },
    {
     "data": {
      "text/plain": [
       "397619.4634388773"
      ]
     },
     "execution_count": 125,
     "metadata": {},
     "output_type": "execute_result"
    }
   ],
   "source": [
    "def cost_calc(x, print_res=False):\n",
    "    # Assume x to have the following structure\n",
    "    Tloss_i, dT_i, d_channel, dP_p, dP_s = x\n",
    "    inputs = read_inputs.read_inputs()\n",
    "    inputs[\"Intermediate Tloss\"] = Tloss_i\n",
    "    inputs[\"Intermediate dTMultiplier\"] = dT_i\n",
    "    inputs[\"Channel Diameter (m)\"] = d_channel\n",
    "    inputs[\"Primary Pressure Drop (kPa)\"] = dP_p\n",
    "    inputs[\"Secondary Pressure Drop (kPa)\"] = dP_s\n",
    "    try:\n",
    "        area_results = compute_required_area.compute_required_area(inputs)\n",
    "        channel_thickness = 3*inputs[\"Plate thickness (m)\"] + inputs[\"Channel Diameter (m)\"]\n",
    "        channel_width = inputs[\"Plate thickness (m)\"] + inputs[\"Channel Diameter (m)\"]\n",
    "        channel_volume = channel_thickness*channel_width*area_results[\"Heat Exchanger Length (m)\"]\n",
    "        HX_volume = sum(channel_volume*area_results[\"Number of Channels\"])\n",
    "        inflation = 1.62\n",
    "        cost_conversion = 132000          # $/m3\n",
    "        cost = HX_volume*132000*inflation # $\n",
    "    except:\n",
    "        return 8e5\n",
    "    if print_res:\n",
    "        print(\"Vol:  \", channel_volume*area_results[\"Number of Channels\"])\n",
    "        print('Cost: ', cost)\n",
    "        print(pd.Series(inputs))\n",
    "        print(pd.Series(area_results))\n",
    "        print(pd.Series(compute_cycle_efficiency.compute_cycle_efficiency(inputs)))\n",
    "    return cost\n",
    "\n",
    "bounds = spo.Bounds(\n",
    "    lb=[5, 1.001, 5e-4, 10, 10],\n",
    "    ub=[25, 1.3, 8e-3, 150, 150],\n",
    ")\n",
    "res = spo.minimize(cost_calc, [15.3, 1.127, 1.354e-3, 104.2, 200], bounds=bounds)\n",
    "print(res)\n",
    "cost_calc(res.x, print_res=True)"
   ]
  }
 ],
 "metadata": {
  "kernelspec": {
   "display_name": "Python 3 (ipykernel)",
   "language": "python",
   "name": "python3"
  },
  "language_info": {
   "codemirror_mode": {
    "name": "ipython",
    "version": 3
   },
   "file_extension": ".py",
   "mimetype": "text/x-python",
   "name": "python",
   "nbconvert_exporter": "python",
   "pygments_lexer": "ipython3",
   "version": "3.10.12"
  }
 },
 "nbformat": 4,
 "nbformat_minor": 5
}
